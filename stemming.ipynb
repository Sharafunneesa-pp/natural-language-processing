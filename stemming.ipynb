{
 "cells": [
  {
   "cell_type": "code",
   "execution_count": 12,
   "id": "d61578e8",
   "metadata": {},
   "outputs": [],
   "source": [
    "import nltk\n",
    "corpus=\"\"\"Telugu Desam Party (TDP)-led National Democratic Alliance (NDA) appears set to get over three-fourths majority in the Andhra Pradesh assembly. As per the trends at 1.30pm, former chief minister N Chandrababu Naidu’s TDP had won 13 assembly seats and was leading on another 120 in the 175-member assembly. The party contested 144 constituencies. In 2019, the TDP contested all the seats but won only 23.\"\"\""
   ]
  },
  {
   "cell_type": "code",
   "execution_count": 13,
   "id": "9207bed6",
   "metadata": {},
   "outputs": [
    {
     "data": {
      "text/plain": [
       "['Telugu Desam Party (TDP)-led National Democratic Alliance (NDA) appears set to get over three-fourths majority in the Andhra Pradesh assembly.',\n",
       " 'As per the trends at 1.30pm, former chief minister N Chandrababu Naidu’s TDP had won 13 assembly seats and was leading on another 120 in the 175-member assembly.',\n",
       " 'The party contested 144 constituencies.',\n",
       " 'In 2019, the TDP contested all the seats but won only 23.']"
      ]
     },
     "execution_count": 13,
     "metadata": {},
     "output_type": "execute_result"
    }
   ],
   "source": [
    "from nltk.tokenize import sent_tokenize\n",
    "document=sent_tokenize(corpus)\n",
    "document"
   ]
  },
  {
   "cell_type": "code",
   "execution_count": 14,
   "id": "a6104408",
   "metadata": {},
   "outputs": [
    {
     "data": {
      "text/plain": [
       "['In',\n",
       " '2019',\n",
       " ',',\n",
       " 'the',\n",
       " 'TDP',\n",
       " 'contested',\n",
       " 'all',\n",
       " 'the',\n",
       " 'seats',\n",
       " 'but',\n",
       " 'won',\n",
       " 'only',\n",
       " '23',\n",
       " '.']"
      ]
     },
     "execution_count": 14,
     "metadata": {},
     "output_type": "execute_result"
    }
   ],
   "source": [
    "from nltk.tokenize import word_tokenize\n",
    "for sentence in document:\n",
    "    words=word_tokenize(sentence)\n",
    "\n",
    "words"
   ]
  },
  {
   "cell_type": "code",
   "execution_count": 16,
   "id": "ddce310e",
   "metadata": {},
   "outputs": [],
   "source": [
    "#porter stemmer\n",
    "from nltk.stem import PorterStemmer\n",
    "stemming=PorterStemmer()"
   ]
  },
  {
   "cell_type": "code",
   "execution_count": 17,
   "id": "794d970e",
   "metadata": {},
   "outputs": [
    {
     "name": "stdout",
     "output_type": "stream",
     "text": [
      "in\n",
      "2019\n",
      ",\n",
      "the\n",
      "tdp\n",
      "contest\n",
      "all\n",
      "the\n",
      "seat\n",
      "but\n",
      "won\n",
      "onli\n",
      "23\n",
      ".\n"
     ]
    }
   ],
   "source": [
    "for word in words:\n",
    "    print(stemming.stem(word))"
   ]
  },
  {
   "cell_type": "code",
   "execution_count": 19,
   "id": "e597b058",
   "metadata": {},
   "outputs": [],
   "source": [
    "#regexp stemmer class\n",
    "#if its in the last,it will remove from words\n",
    "from nltk.stem import RegexpStemmer\n",
    "reg_stemmer=RegexpStemmer('ing$|s$|e$|able$',min=4)"
   ]
  },
  {
   "cell_type": "code",
   "execution_count": 22,
   "id": "05cceab9",
   "metadata": {},
   "outputs": [
    {
     "data": {
      "text/plain": [
       "'cook'"
      ]
     },
     "execution_count": 22,
     "metadata": {},
     "output_type": "execute_result"
    }
   ],
   "source": [
    "reg_stemmer.stem('cooking')"
   ]
  },
  {
   "cell_type": "code",
   "execution_count": 21,
   "id": "1634a00b",
   "metadata": {},
   "outputs": [
    {
     "data": {
      "text/plain": [
       "'ingcook'"
      ]
     },
     "execution_count": 21,
     "metadata": {},
     "output_type": "execute_result"
    }
   ],
   "source": [
    "reg_stemmer.stem('ingcooking')"
   ]
  },
  {
   "cell_type": "code",
   "execution_count": 27,
   "id": "8123c1f5",
   "metadata": {},
   "outputs": [
    {
     "name": "stdout",
     "output_type": "stream",
     "text": [
      "In ----> in\n",
      "2019 ----> 2019\n",
      ", ----> ,\n",
      "the ----> the\n",
      "TDP ----> tdp\n",
      "contested ----> contest\n",
      "all ----> all\n",
      "the ----> the\n",
      "seats ----> seat\n",
      "but ----> but\n",
      "won ----> won\n",
      "only ----> onli\n",
      "23 ----> 23\n",
      ". ----> .\n"
     ]
    }
   ],
   "source": [
    "#snowball stemmer-better than porterstemmer\n",
    "from nltk.stem import SnowballStemmer\n",
    "sb=SnowballStemmer('english')\n",
    "for word in words:\n",
    "    print(word,\"---->\",sb.stem(word))\n",
    "\n"
   ]
  },
  {
   "cell_type": "code",
   "execution_count": null,
   "id": "d59a8a43",
   "metadata": {},
   "outputs": [],
   "source": []
  }
 ],
 "metadata": {
  "kernelspec": {
   "display_name": "Python 3 (ipykernel)",
   "language": "python",
   "name": "python3"
  },
  "language_info": {
   "codemirror_mode": {
    "name": "ipython",
    "version": 3
   },
   "file_extension": ".py",
   "mimetype": "text/x-python",
   "name": "python",
   "nbconvert_exporter": "python",
   "pygments_lexer": "ipython3",
   "version": "3.11.5"
  }
 },
 "nbformat": 4,
 "nbformat_minor": 5
}
