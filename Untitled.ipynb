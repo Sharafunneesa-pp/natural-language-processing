{
 "cells": [
  {
   "cell_type": "code",
   "execution_count": 10,
   "id": "25eda577",
   "metadata": {},
   "outputs": [],
   "source": [
    "corpus=\"\"\"Discussions to draw up the contours of the new government will take place on Wednesday with leaders of alliance parties, Chandrababu Naidu (TDP) and Nitish Kumar (JDU) in attendance, people familiar with the matter said. To be sure, the two leaders are likely to extract their pound of flesh -- in the form of key reforms or ministerial portfolios -- a situation that has been uncharted territory for the BJP over the past decade as it romped to a thumping majority in 2014, and further increased its tally in 2019.\"\"\"\n"
   ]
  },
  {
   "cell_type": "code",
   "execution_count": 11,
   "id": "17e1b503",
   "metadata": {},
   "outputs": [],
   "source": [
    "import nltk\n",
    "from nltk.tokenize import sent_tokenize"
   ]
  },
  {
   "cell_type": "code",
   "execution_count": 13,
   "id": "939a139b",
   "metadata": {},
   "outputs": [],
   "source": [
    "sentence=sent_tokenize(corpus)"
   ]
  },
  {
   "cell_type": "code",
   "execution_count": 16,
   "id": "a854f46f",
   "metadata": {},
   "outputs": [
    {
     "name": "stderr",
     "output_type": "stream",
     "text": [
      "[nltk_data] Downloading package stopwords to\n",
      "[nltk_data]     /Users/sharafunneesapp/nltk_data...\n",
      "[nltk_data]   Package stopwords is already up-to-date!\n"
     ]
    },
    {
     "data": {
      "text/plain": [
       "True"
      ]
     },
     "execution_count": 16,
     "metadata": {},
     "output_type": "execute_result"
    }
   ],
   "source": [
    "from nltk.tokenize import word_tokenize\n",
    "from nltk.stem import PorterStemmer\n",
    "from nltk.corpus import stopwords\n",
    "nltk.download('stopwords')"
   ]
  },
  {
   "cell_type": "code",
   "execution_count": 21,
   "id": "00a6cc8f",
   "metadata": {},
   "outputs": [
    {
     "name": "stderr",
     "output_type": "stream",
     "text": [
      "[nltk_data] Downloading package punkt to\n",
      "[nltk_data]     /Users/sharafunneesapp/nltk_data...\n",
      "[nltk_data]   Package punkt is already up-to-date!\n"
     ]
    }
   ],
   "source": [
    "nltk.download('punkt')\n",
    "import re\n",
    "sw=set(stopwords.words('english'))\n",
    "stemmer=PorterStemmer()\n",
    "for i in range(0,len(sentence)):\n",
    "    words=re.sub('[^a-zA-Z]',' ',sentence[i].lower())\n",
    "    words=word_tokenize(words)\n",
    "    words=[stemmer.stem(word) for word in words if word not in sw ]\n",
    "    sentence[i]=' '.join(words)\n"
   ]
  },
  {
   "cell_type": "code",
   "execution_count": 23,
   "id": "1560cf30",
   "metadata": {},
   "outputs": [
    {
     "data": {
      "text/plain": [
       "['discuss draw contour new govern take place wednesday leader allianc parti chandrababu naidu tdp nitish kumar jdu attend peopl familiar matter said',\n",
       " 'sure two leader like extract pound flesh form key reform ministeri portfolio situat unchart territori bjp past decad romp thump major increa talli']"
      ]
     },
     "execution_count": 23,
     "metadata": {},
     "output_type": "execute_result"
    }
   ],
   "source": [
    "sentence"
   ]
  },
  {
   "cell_type": "code",
   "execution_count": 34,
   "id": "62bcc2ae",
   "metadata": {},
   "outputs": [
    {
     "name": "stdout",
     "output_type": "stream",
     "text": [
      "[('discuss', 'NN'), ('draw', 'VB'), ('contour', 'JJ'), ('new', 'JJ'), ('govern', 'NNS'), ('take', 'VBP'), ('place', 'NN'), ('wednesday', 'JJ'), ('leader', 'NN'), ('allianc', 'NN'), ('parti', 'NN'), ('chandrababu', 'NN'), ('naidu', 'JJ'), ('tdp', 'NN'), ('nitish', 'JJ'), ('kumar', 'NN'), ('jdu', 'NN'), ('attend', 'VBP'), ('peopl', 'NN'), ('familiar', 'JJ'), ('matter', 'NN'), ('said', 'VBD')]\n",
      "[('sure', 'JJ'), ('two', 'CD'), ('leader', 'NN'), ('like', 'IN'), ('extract', 'JJ'), ('pound', 'NN'), ('flesh', 'JJ'), ('form', 'NN'), ('key', 'JJ'), ('reform', 'NN'), ('ministeri', 'NN'), ('portfolio', 'NN'), ('situat', 'JJ'), ('unchart', 'JJ'), ('territori', 'NN'), ('bjp', 'NN'), ('past', 'IN'), ('decad', 'NN'), ('romp', 'NN'), ('thump', 'NN'), ('major', 'JJ'), ('increa', 'NN'), ('talli', 'NN')]\n"
     ]
    }
   ],
   "source": [
    "from nltk.tag import pos_tag\n",
    "for i in sentence:\n",
    "    word=word_tokenize(i)\n",
    "    ptag=pos_tag(word)\n",
    "    print(ptag)"
   ]
  },
  {
   "cell_type": "code",
   "execution_count": 35,
   "id": "969404a9",
   "metadata": {},
   "outputs": [
    {
     "data": {
      "image/svg+xml": [
       "<svg baseProfile=\"full\" height=\"120px\" preserveAspectRatio=\"xMidYMid meet\" style=\"font-family: times, serif; font-weight: normal; font-style: normal; font-size: 16px;\" version=\"1.1\" viewBox=\"0,0,1360.0,120.0\" width=\"1360px\" xmlns=\"http://www.w3.org/2000/svg\" xmlns:ev=\"http://www.w3.org/2001/xml-events\" xmlns:xlink=\"http://www.w3.org/1999/xlink\"><defs /><svg width=\"100%\" x=\"0\" y=\"0px\"><defs /><text text-anchor=\"middle\" x=\"50%\" y=\"16px\">S</text></svg><svg width=\"3.52941%\" x=\"0%\" y=\"48px\"><defs /><svg width=\"100%\" x=\"0\" y=\"0px\"><defs /><text text-anchor=\"middle\" x=\"50%\" y=\"16px\">sure</text></svg><svg width=\"100%\" x=\"0%\" y=\"48px\"><defs /><svg width=\"100%\" x=\"0\" y=\"0px\"><defs /><text text-anchor=\"middle\" x=\"50%\" y=\"16px\">JJ</text></svg></svg><line stroke=\"black\" x1=\"50%\" x2=\"50%\" y1=\"19.2px\" y2=\"48px\" /></svg><line stroke=\"black\" x1=\"50%\" x2=\"1.76471%\" y1=\"19.2px\" y2=\"48px\" /><svg width=\"2.94118%\" x=\"3.52941%\" y=\"48px\"><defs /><svg width=\"100%\" x=\"0\" y=\"0px\"><defs /><text text-anchor=\"middle\" x=\"50%\" y=\"16px\">two</text></svg><svg width=\"100%\" x=\"0%\" y=\"48px\"><defs /><svg width=\"100%\" x=\"0\" y=\"0px\"><defs /><text text-anchor=\"middle\" x=\"50%\" y=\"16px\">CD</text></svg></svg><line stroke=\"black\" x1=\"50%\" x2=\"50%\" y1=\"19.2px\" y2=\"48px\" /></svg><line stroke=\"black\" x1=\"50%\" x2=\"5%\" y1=\"19.2px\" y2=\"48px\" /><svg width=\"4.70588%\" x=\"6.47059%\" y=\"48px\"><defs /><svg width=\"100%\" x=\"0\" y=\"0px\"><defs /><text text-anchor=\"middle\" x=\"50%\" y=\"16px\">leader</text></svg><svg width=\"100%\" x=\"0%\" y=\"48px\"><defs /><svg width=\"100%\" x=\"0\" y=\"0px\"><defs /><text text-anchor=\"middle\" x=\"50%\" y=\"16px\">NN</text></svg></svg><line stroke=\"black\" x1=\"50%\" x2=\"50%\" y1=\"19.2px\" y2=\"48px\" /></svg><line stroke=\"black\" x1=\"50%\" x2=\"8.82353%\" y1=\"19.2px\" y2=\"48px\" /><svg width=\"3.52941%\" x=\"11.1765%\" y=\"48px\"><defs /><svg width=\"100%\" x=\"0\" y=\"0px\"><defs /><text text-anchor=\"middle\" x=\"50%\" y=\"16px\">like</text></svg><svg width=\"100%\" x=\"0%\" y=\"48px\"><defs /><svg width=\"100%\" x=\"0\" y=\"0px\"><defs /><text text-anchor=\"middle\" x=\"50%\" y=\"16px\">IN</text></svg></svg><line stroke=\"black\" x1=\"50%\" x2=\"50%\" y1=\"19.2px\" y2=\"48px\" /></svg><line stroke=\"black\" x1=\"50%\" x2=\"12.9412%\" y1=\"19.2px\" y2=\"48px\" /><svg width=\"5.29412%\" x=\"14.7059%\" y=\"48px\"><defs /><svg width=\"100%\" x=\"0\" y=\"0px\"><defs /><text text-anchor=\"middle\" x=\"50%\" y=\"16px\">extract</text></svg><svg width=\"100%\" x=\"0%\" y=\"48px\"><defs /><svg width=\"100%\" x=\"0\" y=\"0px\"><defs /><text text-anchor=\"middle\" x=\"50%\" y=\"16px\">JJ</text></svg></svg><line stroke=\"black\" x1=\"50%\" x2=\"50%\" y1=\"19.2px\" y2=\"48px\" /></svg><line stroke=\"black\" x1=\"50%\" x2=\"17.3529%\" y1=\"19.2px\" y2=\"48px\" /><svg width=\"4.11765%\" x=\"20%\" y=\"48px\"><defs /><svg width=\"100%\" x=\"0\" y=\"0px\"><defs /><text text-anchor=\"middle\" x=\"50%\" y=\"16px\">pound</text></svg><svg width=\"100%\" x=\"0%\" y=\"48px\"><defs /><svg width=\"100%\" x=\"0\" y=\"0px\"><defs /><text text-anchor=\"middle\" x=\"50%\" y=\"16px\">NN</text></svg></svg><line stroke=\"black\" x1=\"50%\" x2=\"50%\" y1=\"19.2px\" y2=\"48px\" /></svg><line stroke=\"black\" x1=\"50%\" x2=\"22.0588%\" y1=\"19.2px\" y2=\"48px\" /><svg width=\"4.11765%\" x=\"24.1176%\" y=\"48px\"><defs /><svg width=\"100%\" x=\"0\" y=\"0px\"><defs /><text text-anchor=\"middle\" x=\"50%\" y=\"16px\">flesh</text></svg><svg width=\"100%\" x=\"0%\" y=\"48px\"><defs /><svg width=\"100%\" x=\"0\" y=\"0px\"><defs /><text text-anchor=\"middle\" x=\"50%\" y=\"16px\">JJ</text></svg></svg><line stroke=\"black\" x1=\"50%\" x2=\"50%\" y1=\"19.2px\" y2=\"48px\" /></svg><line stroke=\"black\" x1=\"50%\" x2=\"26.1765%\" y1=\"19.2px\" y2=\"48px\" /><svg width=\"3.52941%\" x=\"28.2353%\" y=\"48px\"><defs /><svg width=\"100%\" x=\"0\" y=\"0px\"><defs /><text text-anchor=\"middle\" x=\"50%\" y=\"16px\">form</text></svg><svg width=\"100%\" x=\"0%\" y=\"48px\"><defs /><svg width=\"100%\" x=\"0\" y=\"0px\"><defs /><text text-anchor=\"middle\" x=\"50%\" y=\"16px\">NN</text></svg></svg><line stroke=\"black\" x1=\"50%\" x2=\"50%\" y1=\"19.2px\" y2=\"48px\" /></svg><line stroke=\"black\" x1=\"50%\" x2=\"30%\" y1=\"19.2px\" y2=\"48px\" /><svg width=\"2.94118%\" x=\"31.7647%\" y=\"48px\"><defs /><svg width=\"100%\" x=\"0\" y=\"0px\"><defs /><text text-anchor=\"middle\" x=\"50%\" y=\"16px\">key</text></svg><svg width=\"100%\" x=\"0%\" y=\"48px\"><defs /><svg width=\"100%\" x=\"0\" y=\"0px\"><defs /><text text-anchor=\"middle\" x=\"50%\" y=\"16px\">JJ</text></svg></svg><line stroke=\"black\" x1=\"50%\" x2=\"50%\" y1=\"19.2px\" y2=\"48px\" /></svg><line stroke=\"black\" x1=\"50%\" x2=\"33.2353%\" y1=\"19.2px\" y2=\"48px\" /><svg width=\"4.70588%\" x=\"34.7059%\" y=\"48px\"><defs /><svg width=\"100%\" x=\"0\" y=\"0px\"><defs /><text text-anchor=\"middle\" x=\"50%\" y=\"16px\">reform</text></svg><svg width=\"100%\" x=\"0%\" y=\"48px\"><defs /><svg width=\"100%\" x=\"0\" y=\"0px\"><defs /><text text-anchor=\"middle\" x=\"50%\" y=\"16px\">NN</text></svg></svg><line stroke=\"black\" x1=\"50%\" x2=\"50%\" y1=\"19.2px\" y2=\"48px\" /></svg><line stroke=\"black\" x1=\"50%\" x2=\"37.0588%\" y1=\"19.2px\" y2=\"48px\" /><svg width=\"6.47059%\" x=\"39.4118%\" y=\"48px\"><defs /><svg width=\"100%\" x=\"0\" y=\"0px\"><defs /><text text-anchor=\"middle\" x=\"50%\" y=\"16px\">ministeri</text></svg><svg width=\"100%\" x=\"0%\" y=\"48px\"><defs /><svg width=\"100%\" x=\"0\" y=\"0px\"><defs /><text text-anchor=\"middle\" x=\"50%\" y=\"16px\">NN</text></svg></svg><line stroke=\"black\" x1=\"50%\" x2=\"50%\" y1=\"19.2px\" y2=\"48px\" /></svg><line stroke=\"black\" x1=\"50%\" x2=\"42.6471%\" y1=\"19.2px\" y2=\"48px\" /><svg width=\"6.47059%\" x=\"45.8824%\" y=\"48px\"><defs /><svg width=\"100%\" x=\"0\" y=\"0px\"><defs /><text text-anchor=\"middle\" x=\"50%\" y=\"16px\">portfolio</text></svg><svg width=\"100%\" x=\"0%\" y=\"48px\"><defs /><svg width=\"100%\" x=\"0\" y=\"0px\"><defs /><text text-anchor=\"middle\" x=\"50%\" y=\"16px\">NN</text></svg></svg><line stroke=\"black\" x1=\"50%\" x2=\"50%\" y1=\"19.2px\" y2=\"48px\" /></svg><line stroke=\"black\" x1=\"50%\" x2=\"49.1176%\" y1=\"19.2px\" y2=\"48px\" /><svg width=\"4.70588%\" x=\"52.3529%\" y=\"48px\"><defs /><svg width=\"100%\" x=\"0\" y=\"0px\"><defs /><text text-anchor=\"middle\" x=\"50%\" y=\"16px\">situat</text></svg><svg width=\"100%\" x=\"0%\" y=\"48px\"><defs /><svg width=\"100%\" x=\"0\" y=\"0px\"><defs /><text text-anchor=\"middle\" x=\"50%\" y=\"16px\">JJ</text></svg></svg><line stroke=\"black\" x1=\"50%\" x2=\"50%\" y1=\"19.2px\" y2=\"48px\" /></svg><line stroke=\"black\" x1=\"50%\" x2=\"54.7059%\" y1=\"19.2px\" y2=\"48px\" /><svg width=\"5.29412%\" x=\"57.0588%\" y=\"48px\"><defs /><svg width=\"100%\" x=\"0\" y=\"0px\"><defs /><text text-anchor=\"middle\" x=\"50%\" y=\"16px\">unchart</text></svg><svg width=\"100%\" x=\"0%\" y=\"48px\"><defs /><svg width=\"100%\" x=\"0\" y=\"0px\"><defs /><text text-anchor=\"middle\" x=\"50%\" y=\"16px\">JJ</text></svg></svg><line stroke=\"black\" x1=\"50%\" x2=\"50%\" y1=\"19.2px\" y2=\"48px\" /></svg><line stroke=\"black\" x1=\"50%\" x2=\"59.7059%\" y1=\"19.2px\" y2=\"48px\" /><svg width=\"6.47059%\" x=\"62.3529%\" y=\"48px\"><defs /><svg width=\"100%\" x=\"0\" y=\"0px\"><defs /><text text-anchor=\"middle\" x=\"50%\" y=\"16px\">territori</text></svg><svg width=\"100%\" x=\"0%\" y=\"48px\"><defs /><svg width=\"100%\" x=\"0\" y=\"0px\"><defs /><text text-anchor=\"middle\" x=\"50%\" y=\"16px\">NN</text></svg></svg><line stroke=\"black\" x1=\"50%\" x2=\"50%\" y1=\"19.2px\" y2=\"48px\" /></svg><line stroke=\"black\" x1=\"50%\" x2=\"65.5882%\" y1=\"19.2px\" y2=\"48px\" /><svg width=\"2.94118%\" x=\"68.8235%\" y=\"48px\"><defs /><svg width=\"100%\" x=\"0\" y=\"0px\"><defs /><text text-anchor=\"middle\" x=\"50%\" y=\"16px\">bjp</text></svg><svg width=\"100%\" x=\"0%\" y=\"48px\"><defs /><svg width=\"100%\" x=\"0\" y=\"0px\"><defs /><text text-anchor=\"middle\" x=\"50%\" y=\"16px\">NN</text></svg></svg><line stroke=\"black\" x1=\"50%\" x2=\"50%\" y1=\"19.2px\" y2=\"48px\" /></svg><line stroke=\"black\" x1=\"50%\" x2=\"70.2941%\" y1=\"19.2px\" y2=\"48px\" /><svg width=\"3.52941%\" x=\"71.7647%\" y=\"48px\"><defs /><svg width=\"100%\" x=\"0\" y=\"0px\"><defs /><text text-anchor=\"middle\" x=\"50%\" y=\"16px\">past</text></svg><svg width=\"100%\" x=\"0%\" y=\"48px\"><defs /><svg width=\"100%\" x=\"0\" y=\"0px\"><defs /><text text-anchor=\"middle\" x=\"50%\" y=\"16px\">IN</text></svg></svg><line stroke=\"black\" x1=\"50%\" x2=\"50%\" y1=\"19.2px\" y2=\"48px\" /></svg><line stroke=\"black\" x1=\"50%\" x2=\"73.5294%\" y1=\"19.2px\" y2=\"48px\" /><svg width=\"4.11765%\" x=\"75.2941%\" y=\"48px\"><defs /><svg width=\"100%\" x=\"0\" y=\"0px\"><defs /><text text-anchor=\"middle\" x=\"50%\" y=\"16px\">decad</text></svg><svg width=\"100%\" x=\"0%\" y=\"48px\"><defs /><svg width=\"100%\" x=\"0\" y=\"0px\"><defs /><text text-anchor=\"middle\" x=\"50%\" y=\"16px\">NN</text></svg></svg><line stroke=\"black\" x1=\"50%\" x2=\"50%\" y1=\"19.2px\" y2=\"48px\" /></svg><line stroke=\"black\" x1=\"50%\" x2=\"77.3529%\" y1=\"19.2px\" y2=\"48px\" /><svg width=\"3.52941%\" x=\"79.4118%\" y=\"48px\"><defs /><svg width=\"100%\" x=\"0\" y=\"0px\"><defs /><text text-anchor=\"middle\" x=\"50%\" y=\"16px\">romp</text></svg><svg width=\"100%\" x=\"0%\" y=\"48px\"><defs /><svg width=\"100%\" x=\"0\" y=\"0px\"><defs /><text text-anchor=\"middle\" x=\"50%\" y=\"16px\">NN</text></svg></svg><line stroke=\"black\" x1=\"50%\" x2=\"50%\" y1=\"19.2px\" y2=\"48px\" /></svg><line stroke=\"black\" x1=\"50%\" x2=\"81.1765%\" y1=\"19.2px\" y2=\"48px\" /><svg width=\"4.11765%\" x=\"82.9412%\" y=\"48px\"><defs /><svg width=\"100%\" x=\"0\" y=\"0px\"><defs /><text text-anchor=\"middle\" x=\"50%\" y=\"16px\">thump</text></svg><svg width=\"100%\" x=\"0%\" y=\"48px\"><defs /><svg width=\"100%\" x=\"0\" y=\"0px\"><defs /><text text-anchor=\"middle\" x=\"50%\" y=\"16px\">NN</text></svg></svg><line stroke=\"black\" x1=\"50%\" x2=\"50%\" y1=\"19.2px\" y2=\"48px\" /></svg><line stroke=\"black\" x1=\"50%\" x2=\"85%\" y1=\"19.2px\" y2=\"48px\" /><svg width=\"4.11765%\" x=\"87.0588%\" y=\"48px\"><defs /><svg width=\"100%\" x=\"0\" y=\"0px\"><defs /><text text-anchor=\"middle\" x=\"50%\" y=\"16px\">major</text></svg><svg width=\"100%\" x=\"0%\" y=\"48px\"><defs /><svg width=\"100%\" x=\"0\" y=\"0px\"><defs /><text text-anchor=\"middle\" x=\"50%\" y=\"16px\">JJ</text></svg></svg><line stroke=\"black\" x1=\"50%\" x2=\"50%\" y1=\"19.2px\" y2=\"48px\" /></svg><line stroke=\"black\" x1=\"50%\" x2=\"89.1176%\" y1=\"19.2px\" y2=\"48px\" /><svg width=\"4.70588%\" x=\"91.1765%\" y=\"48px\"><defs /><svg width=\"100%\" x=\"0\" y=\"0px\"><defs /><text text-anchor=\"middle\" x=\"50%\" y=\"16px\">increa</text></svg><svg width=\"100%\" x=\"0%\" y=\"48px\"><defs /><svg width=\"100%\" x=\"0\" y=\"0px\"><defs /><text text-anchor=\"middle\" x=\"50%\" y=\"16px\">NN</text></svg></svg><line stroke=\"black\" x1=\"50%\" x2=\"50%\" y1=\"19.2px\" y2=\"48px\" /></svg><line stroke=\"black\" x1=\"50%\" x2=\"93.5294%\" y1=\"19.2px\" y2=\"48px\" /><svg width=\"4.11765%\" x=\"95.8824%\" y=\"48px\"><defs /><svg width=\"100%\" x=\"0\" y=\"0px\"><defs /><text text-anchor=\"middle\" x=\"50%\" y=\"16px\">talli</text></svg><svg width=\"100%\" x=\"0%\" y=\"48px\"><defs /><svg width=\"100%\" x=\"0\" y=\"0px\"><defs /><text text-anchor=\"middle\" x=\"50%\" y=\"16px\">NN</text></svg></svg><line stroke=\"black\" x1=\"50%\" x2=\"50%\" y1=\"19.2px\" y2=\"48px\" /></svg><line stroke=\"black\" x1=\"50%\" x2=\"97.9412%\" y1=\"19.2px\" y2=\"48px\" /></svg>"
      ],
      "text/plain": [
       "Tree('S', [('sure', 'JJ'), ('two', 'CD'), ('leader', 'NN'), ('like', 'IN'), ('extract', 'JJ'), ('pound', 'NN'), ('flesh', 'JJ'), ('form', 'NN'), ('key', 'JJ'), ('reform', 'NN'), ('ministeri', 'NN'), ('portfolio', 'NN'), ('situat', 'JJ'), ('unchart', 'JJ'), ('territori', 'NN'), ('bjp', 'NN'), ('past', 'IN'), ('decad', 'NN'), ('romp', 'NN'), ('thump', 'NN'), ('major', 'JJ'), ('increa', 'NN'), ('talli', 'NN')])"
      ]
     },
     "execution_count": 35,
     "metadata": {},
     "output_type": "execute_result"
    }
   ],
   "source": [
    "nltk.ne_chunk(ptag)"
   ]
  },
  {
   "cell_type": "code",
   "execution_count": 37,
   "id": "c0eb6be0",
   "metadata": {},
   "outputs": [],
   "source": [
    "from sklearn.feature_extraction.text import TfidfVectorizer\n",
    "tfidf=TfidfVectorizer()"
   ]
  },
  {
   "cell_type": "code",
   "execution_count": 38,
   "id": "6ed75ce6",
   "metadata": {},
   "outputs": [],
   "source": [
    "x=tfidf.fit_transform(sentence)"
   ]
  },
  {
   "cell_type": "code",
   "execution_count": 40,
   "id": "cd9d2378",
   "metadata": {},
   "outputs": [
    {
     "data": {
      "text/plain": [
       "array([[0.21563424, 0.21563424, 0.        , 0.21563424, 0.21563424,\n",
       "        0.        , 0.21563424, 0.21563424, 0.        , 0.21563424,\n",
       "        0.        , 0.        , 0.21563424, 0.        , 0.21563424,\n",
       "        0.        , 0.21563424, 0.15342554, 0.        , 0.        ,\n",
       "        0.21563424, 0.        , 0.21563424, 0.21563424, 0.21563424,\n",
       "        0.21563424, 0.        , 0.21563424, 0.21563424, 0.        ,\n",
       "        0.        , 0.        , 0.        , 0.21563424, 0.        ,\n",
       "        0.        , 0.21563424, 0.        , 0.21563424, 0.        ,\n",
       "        0.        , 0.        , 0.        , 0.21563424],\n",
       "       [0.        , 0.        , 0.21078926, 0.        , 0.        ,\n",
       "        0.21078926, 0.        , 0.        , 0.21078926, 0.        ,\n",
       "        0.21078926, 0.21078926, 0.        , 0.21078926, 0.        ,\n",
       "        0.21078926, 0.        , 0.1499783 , 0.21078926, 0.21078926,\n",
       "        0.        , 0.21078926, 0.        , 0.        , 0.        ,\n",
       "        0.        , 0.21078926, 0.        , 0.        , 0.21078926,\n",
       "        0.21078926, 0.21078926, 0.21078926, 0.        , 0.21078926,\n",
       "        0.21078926, 0.        , 0.21078926, 0.        , 0.21078926,\n",
       "        0.21078926, 0.21078926, 0.21078926, 0.        ]])"
      ]
     },
     "execution_count": 40,
     "metadata": {},
     "output_type": "execute_result"
    }
   ],
   "source": [
    "x.toarray()"
   ]
  },
  {
   "cell_type": "code",
   "execution_count": 42,
   "id": "d2369d3d",
   "metadata": {},
   "outputs": [
    {
     "data": {
      "text/plain": [
       "{'discuss': 6,\n",
       " 'draw': 7,\n",
       " 'contour': 4,\n",
       " 'new': 23,\n",
       " 'govern': 12,\n",
       " 'take': 36,\n",
       " 'place': 28,\n",
       " 'wednesday': 43,\n",
       " 'leader': 17,\n",
       " 'allianc': 0,\n",
       " 'parti': 25,\n",
       " 'chandrababu': 3,\n",
       " 'naidu': 22,\n",
       " 'tdp': 38,\n",
       " 'nitish': 24,\n",
       " 'kumar': 16,\n",
       " 'jdu': 14,\n",
       " 'attend': 1,\n",
       " 'peopl': 27,\n",
       " 'familiar': 9,\n",
       " 'matter': 20,\n",
       " 'said': 33,\n",
       " 'sure': 35,\n",
       " 'two': 41,\n",
       " 'like': 18,\n",
       " 'extract': 8,\n",
       " 'pound': 30,\n",
       " 'flesh': 10,\n",
       " 'form': 11,\n",
       " 'key': 15,\n",
       " 'reform': 31,\n",
       " 'ministeri': 21,\n",
       " 'portfolio': 29,\n",
       " 'situat': 34,\n",
       " 'unchart': 42,\n",
       " 'territori': 39,\n",
       " 'bjp': 2,\n",
       " 'past': 26,\n",
       " 'decad': 5,\n",
       " 'romp': 32,\n",
       " 'thump': 40,\n",
       " 'major': 19,\n",
       " 'increa': 13,\n",
       " 'talli': 37}"
      ]
     },
     "execution_count": 42,
     "metadata": {},
     "output_type": "execute_result"
    }
   ],
   "source": [
    "tfidf.vocabulary_"
   ]
  },
  {
   "cell_type": "code",
   "execution_count": null,
   "id": "f3282e2d",
   "metadata": {},
   "outputs": [],
   "source": []
  }
 ],
 "metadata": {
  "kernelspec": {
   "display_name": "Python 3 (ipykernel)",
   "language": "python",
   "name": "python3"
  },
  "language_info": {
   "codemirror_mode": {
    "name": "ipython",
    "version": 3
   },
   "file_extension": ".py",
   "mimetype": "text/x-python",
   "name": "python",
   "nbconvert_exporter": "python",
   "pygments_lexer": "ipython3",
   "version": "3.11.5"
  }
 },
 "nbformat": 4,
 "nbformat_minor": 5
}
