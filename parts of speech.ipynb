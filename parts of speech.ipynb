{
 "cells": [
  {
   "cell_type": "code",
   "execution_count": 127,
   "id": "c560546f",
   "metadata": {},
   "outputs": [],
   "source": [
    "corpus=\"\"\"Congress MP Rahul Gandhi on Tuesday hit out at Prime Minister Narendra Modi and Union home minister Amit Shah, accusing them of intimidating the institutions of India. \"We fought this election not just against BJP but also the institutions, the governance structure of the country, the intelligence agencies CBI &EDI, judiciary because all these institutions were captured by Amit Shah & Narendra Modi ji...\" Gandhi said at the briefing held after the Lok Sabha election results.\"\"\"\n"
   ]
  },
  {
   "cell_type": "code",
   "execution_count": 128,
   "id": "1769a559",
   "metadata": {},
   "outputs": [],
   "source": [
    "import nltk\n",
    "sentence=sent_tokenize(corpus)"
   ]
  },
  {
   "cell_type": "code",
   "execution_count": 129,
   "id": "bdfeaa57",
   "metadata": {},
   "outputs": [
    {
     "data": {
      "text/plain": [
       "['Congress MP Rahul Gandhi on Tuesday hit out at Prime Minister Narendra Modi and Union home minister Amit Shah, accusing them of intimidating the institutions of India.',\n",
       " '\"We fought this election not just against BJP but also the institutions, the governance structure of the country, the intelligence agencies CBI &EDI, judiciary because all these institutions were captured by Amit Shah & Narendra Modi ji...\" Gandhi said at the briefing held after the Lok Sabha election results.']"
      ]
     },
     "execution_count": 129,
     "metadata": {},
     "output_type": "execute_result"
    }
   ],
   "source": [
    "sentence"
   ]
  },
  {
   "cell_type": "code",
   "execution_count": 130,
   "id": "2ccb9ad0",
   "metadata": {},
   "outputs": [
    {
     "name": "stderr",
     "output_type": "stream",
     "text": [
      "[nltk_data] Downloading package stopwords to\n",
      "[nltk_data]     /Users/sharafunneesapp/nltk_data...\n",
      "[nltk_data]   Package stopwords is already up-to-date!\n"
     ]
    },
    {
     "data": {
      "text/plain": [
       "True"
      ]
     },
     "execution_count": 130,
     "metadata": {},
     "output_type": "execute_result"
    }
   ],
   "source": [
    "from nltk.corpus import stopwords\n",
    "nltk.download('stopwords')"
   ]
  },
  {
   "cell_type": "code",
   "execution_count": 131,
   "id": "fcb5f0d7",
   "metadata": {},
   "outputs": [
    {
     "name": "stderr",
     "output_type": "stream",
     "text": [
      "[nltk_data] Downloading package punkt to\n",
      "[nltk_data]     /Users/sharafunneesapp/nltk_data...\n",
      "[nltk_data]   Package punkt is already up-to-date!\n",
      "[nltk_data] Downloading package averaged_perceptron_tagger to\n",
      "[nltk_data]     /Users/sharafunneesapp/nltk_data...\n",
      "[nltk_data]   Package averaged_perceptron_tagger is already up-to-\n",
      "[nltk_data]       date!\n"
     ]
    },
    {
     "data": {
      "text/plain": [
       "True"
      ]
     },
     "execution_count": 131,
     "metadata": {},
     "output_type": "execute_result"
    }
   ],
   "source": [
    "nltk.download('punkt')\n",
    "nltk.download('averaged_perceptron_tagger')"
   ]
  },
  {
   "cell_type": "code",
   "execution_count": 132,
   "id": "6137673a",
   "metadata": {},
   "outputs": [
    {
     "name": "stdout",
     "output_type": "stream",
     "text": [
      "[('Congress', 'NNP'), ('MP', 'NNP'), ('Rahul', 'NNP'), ('Gandhi', 'NNP'), ('Tuesday', 'NNP'), ('hit', 'VBD'), ('Prime', 'NNP'), ('Minister', 'NNP'), ('Narendra', 'NNP'), ('Modi', 'NNP'), ('Union', 'NNP'), ('home', 'NN'), ('minister', 'NN'), ('Amit', 'NNP'), ('Shah', 'NNP'), (',', ','), ('accusing', 'VBG'), ('intimidating', 'VBG'), ('institutions', 'NNS'), ('India', 'NNP'), ('.', '.')]\n",
      "[('``', '``'), ('We', 'PRP'), ('fought', 'VBD'), ('election', 'NN'), ('BJP', 'NNP'), ('also', 'RB'), ('institutions', 'NNS'), (',', ','), ('governance', 'NN'), ('structure', 'NN'), ('country', 'NN'), (',', ','), ('intelligence', 'NN'), ('agencies', 'NNS'), ('CBI', 'NNP'), ('&', 'CC'), ('EDI', 'NNP'), (',', ','), ('judiciary', 'JJ'), ('institutions', 'NNS'), ('captured', 'VBD'), ('Amit', 'NNP'), ('Shah', 'NNP'), ('&', 'CC'), ('Narendra', 'NNP'), ('Modi', 'NNP'), ('ji', 'NN'), ('...', ':'), (\"''\", \"''\"), ('Gandhi', 'NNP'), ('said', 'VBD'), ('briefing', 'VBG'), ('held', 'VBN'), ('Lok', 'NNP'), ('Sabha', 'NNP'), ('election', 'NN'), ('results', 'NNS'), ('.', '.')]\n"
     ]
    }
   ],
   "source": [
    "from nltk.tag import pos_tag\n",
    "for i in range(len(sentence)):\n",
    "    words=nltk.word_tokenize(sentence[i])\n",
    "    words=[word for word in words if word not in set(stopwords.words('english')) ]\n",
    "    ptag=pos_tag(words)\n",
    "    print(ptag)\n",
    "\n"
   ]
  },
  {
   "cell_type": "code",
   "execution_count": null,
   "id": "579ab270",
   "metadata": {},
   "outputs": [],
   "source": []
  }
 ],
 "metadata": {
  "kernelspec": {
   "display_name": "Python 3 (ipykernel)",
   "language": "python",
   "name": "python3"
  },
  "language_info": {
   "codemirror_mode": {
    "name": "ipython",
    "version": 3
   },
   "file_extension": ".py",
   "mimetype": "text/x-python",
   "name": "python",
   "nbconvert_exporter": "python",
   "pygments_lexer": "ipython3",
   "version": "3.11.5"
  }
 },
 "nbformat": 4,
 "nbformat_minor": 5
}
