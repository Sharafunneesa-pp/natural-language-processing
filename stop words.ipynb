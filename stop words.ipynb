{
 "cells": [
  {
   "cell_type": "code",
   "execution_count": 73,
   "id": "237ff389",
   "metadata": {},
   "outputs": [],
   "source": [
    "corpus=\"\"\"Hypertension is one of the most common medical complications during pregnancy and a leading cause of maternal mortality and morbidity. Severe preeclampsia is defined as blood pressure (BP) >160/110 mmHg with warning signs such as headache, blurring of vision, and epigastric pain. Nifedipine (C17H18N2O6), labetalol (C19H24N2O3), and hydralazine (C8H8N4) are commonly used drugs, and all are recommended as first-line agents. Hydralazine is associated with a higher incidence of adverse outcomes, so oral nifedipine has been proposed as a first-line alternative to intravenous labetalol. Consequently, this study aims to compare the efficacy and safety of oral nifedipine with that of intravenous labetalol. The objective is to compare the ability/effectiveness of oral nifedipine and intravenous labetalol to normalize acute hypertension in severe preeclampsia and to assess the birth outcome. Relations between different factors were established by appropriate statistical tests. The p-value <0.05 was considered statistically significant.\"\"\"\n"
   ]
  },
  {
   "cell_type": "code",
   "execution_count": 74,
   "id": "66731f4c",
   "metadata": {},
   "outputs": [],
   "source": [
    "import nltk"
   ]
  },
  {
   "cell_type": "code",
   "execution_count": 75,
   "id": "50a3940c",
   "metadata": {},
   "outputs": [
    {
     "name": "stderr",
     "output_type": "stream",
     "text": [
      "[nltk_data] Downloading package stopwords to\n",
      "[nltk_data]     /Users/sharafunneesapp/nltk_data...\n",
      "[nltk_data]   Package stopwords is already up-to-date!\n"
     ]
    },
    {
     "data": {
      "text/plain": [
       "True"
      ]
     },
     "execution_count": 75,
     "metadata": {},
     "output_type": "execute_result"
    }
   ],
   "source": [
    "from nltk.stem import PorterStemmer\n",
    "from nltk.corpus import stopwords\n",
    "nltk.download('stopwords')"
   ]
  },
  {
   "cell_type": "code",
   "execution_count": 76,
   "id": "8a6c68dd",
   "metadata": {},
   "outputs": [
    {
     "data": {
      "text/plain": [
       "['i',\n",
       " 'me',\n",
       " 'my',\n",
       " 'myself',\n",
       " 'we',\n",
       " 'our',\n",
       " 'ours',\n",
       " 'ourselves',\n",
       " 'you',\n",
       " \"you're\",\n",
       " \"you've\",\n",
       " \"you'll\",\n",
       " \"you'd\",\n",
       " 'your',\n",
       " 'yours',\n",
       " 'yourself',\n",
       " 'yourselves',\n",
       " 'he',\n",
       " 'him',\n",
       " 'his',\n",
       " 'himself',\n",
       " 'she',\n",
       " \"she's\",\n",
       " 'her',\n",
       " 'hers',\n",
       " 'herself',\n",
       " 'it',\n",
       " \"it's\",\n",
       " 'its',\n",
       " 'itself',\n",
       " 'they',\n",
       " 'them',\n",
       " 'their',\n",
       " 'theirs',\n",
       " 'themselves',\n",
       " 'what',\n",
       " 'which',\n",
       " 'who',\n",
       " 'whom',\n",
       " 'this',\n",
       " 'that',\n",
       " \"that'll\",\n",
       " 'these',\n",
       " 'those',\n",
       " 'am',\n",
       " 'is',\n",
       " 'are',\n",
       " 'was',\n",
       " 'were',\n",
       " 'be',\n",
       " 'been',\n",
       " 'being',\n",
       " 'have',\n",
       " 'has',\n",
       " 'had',\n",
       " 'having',\n",
       " 'do',\n",
       " 'does',\n",
       " 'did',\n",
       " 'doing',\n",
       " 'a',\n",
       " 'an',\n",
       " 'the',\n",
       " 'and',\n",
       " 'but',\n",
       " 'if',\n",
       " 'or',\n",
       " 'because',\n",
       " 'as',\n",
       " 'until',\n",
       " 'while',\n",
       " 'of',\n",
       " 'at',\n",
       " 'by',\n",
       " 'for',\n",
       " 'with',\n",
       " 'about',\n",
       " 'against',\n",
       " 'between',\n",
       " 'into',\n",
       " 'through',\n",
       " 'during',\n",
       " 'before',\n",
       " 'after',\n",
       " 'above',\n",
       " 'below',\n",
       " 'to',\n",
       " 'from',\n",
       " 'up',\n",
       " 'down',\n",
       " 'in',\n",
       " 'out',\n",
       " 'on',\n",
       " 'off',\n",
       " 'over',\n",
       " 'under',\n",
       " 'again',\n",
       " 'further',\n",
       " 'then',\n",
       " 'once',\n",
       " 'here',\n",
       " 'there',\n",
       " 'when',\n",
       " 'where',\n",
       " 'why',\n",
       " 'how',\n",
       " 'all',\n",
       " 'any',\n",
       " 'both',\n",
       " 'each',\n",
       " 'few',\n",
       " 'more',\n",
       " 'most',\n",
       " 'other',\n",
       " 'some',\n",
       " 'such',\n",
       " 'no',\n",
       " 'nor',\n",
       " 'not',\n",
       " 'only',\n",
       " 'own',\n",
       " 'same',\n",
       " 'so',\n",
       " 'than',\n",
       " 'too',\n",
       " 'very',\n",
       " 's',\n",
       " 't',\n",
       " 'can',\n",
       " 'will',\n",
       " 'just',\n",
       " 'don',\n",
       " \"don't\",\n",
       " 'should',\n",
       " \"should've\",\n",
       " 'now',\n",
       " 'd',\n",
       " 'll',\n",
       " 'm',\n",
       " 'o',\n",
       " 're',\n",
       " 've',\n",
       " 'y',\n",
       " 'ain',\n",
       " 'aren',\n",
       " \"aren't\",\n",
       " 'couldn',\n",
       " \"couldn't\",\n",
       " 'didn',\n",
       " \"didn't\",\n",
       " 'doesn',\n",
       " \"doesn't\",\n",
       " 'hadn',\n",
       " \"hadn't\",\n",
       " 'hasn',\n",
       " \"hasn't\",\n",
       " 'haven',\n",
       " \"haven't\",\n",
       " 'isn',\n",
       " \"isn't\",\n",
       " 'ma',\n",
       " 'mightn',\n",
       " \"mightn't\",\n",
       " 'mustn',\n",
       " \"mustn't\",\n",
       " 'needn',\n",
       " \"needn't\",\n",
       " 'shan',\n",
       " \"shan't\",\n",
       " 'shouldn',\n",
       " \"shouldn't\",\n",
       " 'wasn',\n",
       " \"wasn't\",\n",
       " 'weren',\n",
       " \"weren't\",\n",
       " 'won',\n",
       " \"won't\",\n",
       " 'wouldn',\n",
       " \"wouldn't\"]"
      ]
     },
     "execution_count": 76,
     "metadata": {},
     "output_type": "execute_result"
    }
   ],
   "source": [
    "stopwords.words('english')"
   ]
  },
  {
   "cell_type": "code",
   "execution_count": 77,
   "id": "3ddf6c88",
   "metadata": {},
   "outputs": [],
   "source": [
    "stemmer=PorterStemmer()\n",
    "from nltk.tokenize import sent_tokenize"
   ]
  },
  {
   "cell_type": "code",
   "execution_count": 78,
   "id": "d0115b5d",
   "metadata": {},
   "outputs": [
    {
     "data": {
      "text/plain": [
       "['Hypertension is one of the most common medical complications during pregnancy and a leading cause of maternal mortality and morbidity.',\n",
       " 'Severe preeclampsia is defined as blood pressure (BP) >160/110 mmHg with warning signs such as headache, blurring of vision, and epigastric pain.',\n",
       " 'Nifedipine (C17H18N2O6), labetalol (C19H24N2O3), and hydralazine (C8H8N4) are commonly used drugs, and all are recommended as first-line agents.',\n",
       " 'Hydralazine is associated with a higher incidence of adverse outcomes, so oral nifedipine has been proposed as a first-line alternative to intravenous labetalol.',\n",
       " 'Consequently, this study aims to compare the efficacy and safety of oral nifedipine with that of intravenous labetalol.',\n",
       " 'The objective is to compare the ability/effectiveness of oral nifedipine and intravenous labetalol to normalize acute hypertension in severe preeclampsia and to assess the birth outcome.',\n",
       " 'Relations between different factors were established by appropriate statistical tests.',\n",
       " 'The p-value <0.05 was considered statistically significant.']"
      ]
     },
     "execution_count": 78,
     "metadata": {},
     "output_type": "execute_result"
    }
   ],
   "source": [
    "sentence=sent_tokenize(corpus)\n",
    "sentence"
   ]
  },
  {
   "cell_type": "code",
   "execution_count": 79,
   "id": "010ffbd6",
   "metadata": {},
   "outputs": [
    {
     "data": {
      "text/plain": [
       "list"
      ]
     },
     "execution_count": 79,
     "metadata": {},
     "output_type": "execute_result"
    }
   ],
   "source": [
    "type(sentence)"
   ]
  },
  {
   "cell_type": "code",
   "execution_count": 80,
   "id": "e4a33843",
   "metadata": {},
   "outputs": [],
   "source": [
    "for i in range(len(sentence)):\n",
    "    words=nltk.word_tokenize(sentence[i])\n",
    "    words=[stemmer.stem(word) for word in words if word not in set(stopwords.words('english'))]\n",
    "    sentence[i]=\" \".join(words) #converting into sentences\n",
    "    "
   ]
  },
  {
   "cell_type": "code",
   "execution_count": 81,
   "id": "9943b23e",
   "metadata": {},
   "outputs": [
    {
     "data": {
      "text/plain": [
       "['hypertens one common medic complic pregnanc lead caus matern mortal morbid .',\n",
       " 'sever preeclampsia defin blood pressur ( bp ) > 160/110 mmhg warn sign headach , blur vision , epigastr pain .',\n",
       " 'nifedipin ( c17h18n2o6 ) , labetalol ( c19h24n2o3 ) , hydralazin ( c8h8n4 ) commonli use drug , recommend first-lin agent .',\n",
       " 'hydralazin associ higher incid advers outcom , oral nifedipin propos first-lin altern intraven labetalol .',\n",
       " 'consequ , studi aim compar efficaci safeti oral nifedipin intraven labetalol .',\n",
       " 'the object compar ability/effect oral nifedipin intraven labetalol normal acut hypertens sever preeclampsia assess birth outcom .',\n",
       " 'relat differ factor establish appropri statist test .',\n",
       " 'the p-valu < 0.05 consid statist signific .']"
      ]
     },
     "execution_count": 81,
     "metadata": {},
     "output_type": "execute_result"
    }
   ],
   "source": [
    "sentence"
   ]
  },
  {
   "cell_type": "code",
   "execution_count": 82,
   "id": "c5297a07",
   "metadata": {},
   "outputs": [],
   "source": [
    "from nltk.stem import SnowballStemmer\n",
    "sb=SnowballStemmer('english')\n",
    "for i in range(len(sentence)):\n",
    "    sentence[i]=sentence[i].lower()\n",
    "    words=nltk.word_tokenize(sentence[i])\n",
    "    words=[sb.stem(word) for word in words if word not in set(stopwords.words('english'))]\n",
    "    sentence[i]=\" \".join(words) \n"
   ]
  },
  {
   "cell_type": "code",
   "execution_count": 83,
   "id": "7d6fbef3",
   "metadata": {},
   "outputs": [
    {
     "data": {
      "text/plain": [
       "['hyperten one common medic complic pregnanc lead caus matern mortal morbid .',\n",
       " 'sever preeclampsia defin blood pressur ( bp ) > 160/110 mmhg warn sign headach , blur vision , epigastr pain .',\n",
       " 'nifedipin ( c17h18n2o6 ) , labetalol ( c19h24n2o3 ) , hydralazin ( c8h8n4 ) common use drug , recommend first-lin agent .',\n",
       " 'hydralazin associ higher incid adver outcom , oral nifedipin propo first-lin altern intraven labetalol .',\n",
       " 'consequ , studi aim compar efficaci safeti oral nifedipin intraven labetalol .',\n",
       " 'object compar ability/effect oral nifedipin intraven labetalol normal acut hyperten sever preeclampsia assess birth outcom .',\n",
       " 'relat differ factor establish appropri statist test .',\n",
       " 'p-valu < 0.05 consid statist signif .']"
      ]
     },
     "execution_count": 83,
     "metadata": {},
     "output_type": "execute_result"
    }
   ],
   "source": [
    "#all the letter becoming small letter\n",
    "sentence"
   ]
  },
  {
   "cell_type": "code",
   "execution_count": 84,
   "id": "94e763f7",
   "metadata": {},
   "outputs": [],
   "source": [
    "from nltk.stem import WordNetLemmatizer"
   ]
  },
  {
   "cell_type": "code",
   "execution_count": 85,
   "id": "f008ccd9",
   "metadata": {},
   "outputs": [],
   "source": [
    "lemmatizer=WordNetLemmatizer()\n",
    "for i in range(len(sentence)):\n",
    "    words=nltk.word_tokenize(sentence[i])\n",
    "    words=[lemmatizer.lemmatize(word,pos='v') for word in words if word not in set(stopwords.words('english'))]\n",
    "    sentence[i]=\" \".join(words)"
   ]
  },
  {
   "cell_type": "code",
   "execution_count": 86,
   "id": "55ffd1e8",
   "metadata": {},
   "outputs": [
    {
     "data": {
      "text/plain": [
       "['hyperten one common medic complic pregnanc lead caus matern mortal morbid .',\n",
       " 'sever preeclampsia defin blood pressur ( bp ) > 160/110 mmhg warn sign headach , blur vision , epigastr pain .',\n",
       " 'nifedipin ( c17h18n2o6 ) , labetalol ( c19h24n2o3 ) , hydralazin ( c8h8n4 ) common use drug , recommend first-lin agent .',\n",
       " 'hydralazin associ higher incid adver outcom , oral nifedipin propo first-lin altern intraven labetalol .',\n",
       " 'consequ , studi aim compar efficaci safeti oral nifedipin intraven labetalol .',\n",
       " 'object compar ability/effect oral nifedipin intraven labetalol normal acut hyperten sever preeclampsia assess birth outcom .',\n",
       " 'relat differ factor establish appropri statist test .',\n",
       " 'p-valu < 0.05 consid statist signif .']"
      ]
     },
     "execution_count": 86,
     "metadata": {},
     "output_type": "execute_result"
    }
   ],
   "source": [
    "sentence"
   ]
  },
  {
   "cell_type": "code",
   "execution_count": null,
   "id": "ba8078c0",
   "metadata": {},
   "outputs": [],
   "source": []
  }
 ],
 "metadata": {
  "kernelspec": {
   "display_name": "Python 3 (ipykernel)",
   "language": "python",
   "name": "python3"
  },
  "language_info": {
   "codemirror_mode": {
    "name": "ipython",
    "version": 3
   },
   "file_extension": ".py",
   "mimetype": "text/x-python",
   "name": "python",
   "nbconvert_exporter": "python",
   "pygments_lexer": "ipython3",
   "version": "3.11.5"
  }
 },
 "nbformat": 4,
 "nbformat_minor": 5
}
