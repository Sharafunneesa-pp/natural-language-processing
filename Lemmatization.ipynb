{
 "cells": [
  {
   "cell_type": "code",
   "execution_count": 95,
   "id": "5aa9d12e",
   "metadata": {},
   "outputs": [],
   "source": [
    "corpus=\"\"\"MADISON, Wis.—Thirty-six laptops and 10 multifunctional printers have been delivered to Ukrainian Credit Unions' Anisiya and PVKS thanks to a partnership Worldwide Foundation for Credit Unions' (WFCU) helped them build with two of its Champions—Advantis Credit Union (US) and Dundalk Credit Union (Ireland)—who financed the purchase of the items to boost WFCU’s Digitalization Program.  \n",
    "\n",
    "Launched in 2023 in cooperation with the USAID/WOCCU Credit for Agriculture Producers (CAP) Project, the program helped both PVKS and Anisiya Credit Unions fully migrate to a new core banking system, which allows for API integration and improved credit union operations. \n",
    "\n",
    "With 2024 bringing a new challenge of making the core banking system work at full capacity, the credit unions needed to update the hardware used by their employees. This is where WFCU’s champions joined the effort and provided targeted financial support to their Ukrainian colleagues. \"\"\""
   ]
  },
  {
   "cell_type": "code",
   "execution_count": 96,
   "id": "ed523884",
   "metadata": {},
   "outputs": [],
   "source": [
    "import nltk"
   ]
  },
  {
   "cell_type": "code",
   "execution_count": 97,
   "id": "ca5f2d0d",
   "metadata": {},
   "outputs": [
    {
     "data": {
      "text/plain": [
       "[\"MADISON, Wis.—Thirty-six laptops and 10 multifunctional printers have been delivered to Ukrainian Credit Unions' Anisiya and PVKS thanks to a partnership Worldwide Foundation for Credit Unions' (WFCU) helped them build with two of its Champions—Advantis Credit Union (US) and Dundalk Credit Union (Ireland)—who financed the purchase of the items to boost WFCU’s Digitalization Program.\",\n",
       " 'Launched in 2023 in cooperation with the USAID/WOCCU Credit for Agriculture Producers (CAP) Project, the program helped both PVKS and Anisiya Credit Unions fully migrate to a new core banking system, which allows for API integration and improved credit union operations.',\n",
       " 'With 2024 bringing a new challenge of making the core banking system work at full capacity, the credit unions needed to update the hardware used by their employees.',\n",
       " 'This is where WFCU’s champions joined the effort and provided targeted financial support to their Ukrainian colleagues.']"
      ]
     },
     "execution_count": 97,
     "metadata": {},
     "output_type": "execute_result"
    }
   ],
   "source": [
    "from nltk.tokenize import sent_tokenize,word_tokenize\n",
    "document=sent_tokenize(corpus)\n",
    "document"
   ]
  },
  {
   "cell_type": "code",
   "execution_count": 98,
   "id": "eb1775ac",
   "metadata": {},
   "outputs": [
    {
     "name": "stdout",
     "output_type": "stream",
     "text": [
      "['MADISON', ',', 'Wis.—Thirty-six', 'laptops', 'and', '10', 'multifunctional', 'printers', 'have', 'been', 'delivered', 'to', 'Ukrainian', 'Credit', 'Unions', \"'\", 'Anisiya', 'and', 'PVKS', 'thanks', 'to', 'a', 'partnership', 'Worldwide', 'Foundation', 'for', 'Credit', 'Unions', \"'\", '(', 'WFCU', ')', 'helped', 'them', 'build', 'with', 'two', 'of', 'its', 'Champions—Advantis', 'Credit', 'Union', '(', 'US', ')', 'and', 'Dundalk', 'Credit', 'Union', '(', 'Ireland', ')', '—who', 'financed', 'the', 'purchase', 'of', 'the', 'items', 'to', 'boost', 'WFCU', '’', 's', 'Digitalization', 'Program', '.']\n",
      "['Launched', 'in', '2023', 'in', 'cooperation', 'with', 'the', 'USAID/WOCCU', 'Credit', 'for', 'Agriculture', 'Producers', '(', 'CAP', ')', 'Project', ',', 'the', 'program', 'helped', 'both', 'PVKS', 'and', 'Anisiya', 'Credit', 'Unions', 'fully', 'migrate', 'to', 'a', 'new', 'core', 'banking', 'system', ',', 'which', 'allows', 'for', 'API', 'integration', 'and', 'improved', 'credit', 'union', 'operations', '.']\n",
      "['With', '2024', 'bringing', 'a', 'new', 'challenge', 'of', 'making', 'the', 'core', 'banking', 'system', 'work', 'at', 'full', 'capacity', ',', 'the', 'credit', 'unions', 'needed', 'to', 'update', 'the', 'hardware', 'used', 'by', 'their', 'employees', '.']\n",
      "['This', 'is', 'where', 'WFCU', '’', 's', 'champions', 'joined', 'the', 'effort', 'and', 'provided', 'targeted', 'financial', 'support', 'to', 'their', 'Ukrainian', 'colleagues', '.']\n"
     ]
    }
   ],
   "source": [
    "for sentence in document:\n",
    "    words=word_tokenize(sentence)\n",
    "    print(words)"
   ]
  },
  {
   "cell_type": "code",
   "execution_count": 109,
   "id": "9be94812",
   "metadata": {},
   "outputs": [
    {
     "name": "stdout",
     "output_type": "stream",
     "text": [
      "This\n",
      "is\n",
      "where\n",
      "WFCU\n",
      "’\n",
      "s\n",
      "champion\n",
      "joined\n",
      "the\n",
      "effort\n",
      "and\n",
      "provided\n",
      "targeted\n",
      "financial\n",
      "support\n",
      "to\n",
      "their\n",
      "Ukrainian\n",
      "colleague\n",
      ".\n"
     ]
    }
   ],
   "source": [
    "from nltk.stem import WordNetLemmatizer\n",
    "lemmatizer=WordNetLemmatizer()\n",
    "for word in words:\n",
    "    lemme=lemmatizer.lemmatize(word,pos='n')\n",
    "    print(lemme)"
   ]
  },
  {
   "cell_type": "code",
   "execution_count": null,
   "id": "c9cc4974",
   "metadata": {},
   "outputs": [],
   "source": []
  }
 ],
 "metadata": {
  "kernelspec": {
   "display_name": "Python 3 (ipykernel)",
   "language": "python",
   "name": "python3"
  },
  "language_info": {
   "codemirror_mode": {
    "name": "ipython",
    "version": 3
   },
   "file_extension": ".py",
   "mimetype": "text/x-python",
   "name": "python",
   "nbconvert_exporter": "python",
   "pygments_lexer": "ipython3",
   "version": "3.11.5"
  }
 },
 "nbformat": 4,
 "nbformat_minor": 5
}
